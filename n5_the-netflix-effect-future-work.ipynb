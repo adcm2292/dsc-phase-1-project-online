{
 "cells": [
  {
   "cell_type": "markdown",
   "metadata": {},
   "source": [
    "## Appendix: Netflix Analysis"
   ]
  },
  {
   "cell_type": "code",
   "execution_count": 2,
   "metadata": {},
   "outputs": [],
   "source": [
    "import numpy as np\n",
    "import pandas as pd\n",
    "import matplotlib.pyplot as plt\n",
    "import seaborn as sns\n",
    "%store -r netflix_df\n",
    "%store -r netflix_cat"
   ]
  },
  {
   "cell_type": "code",
   "execution_count": 3,
   "metadata": {},
   "outputs": [],
   "source": [
    "netflix = pd.merge(netflix_df, netflix_cat, on='title', how='inner')"
   ]
  },
  {
   "cell_type": "code",
   "execution_count": 4,
   "metadata": {},
   "outputs": [
    {
     "name": "stdout",
     "output_type": "stream",
     "text": [
      "<class 'pandas.core.frame.DataFrame'>\n",
      "Int64Index: 12981 entries, 0 to 12980\n",
      "Data columns (total 6 columns):\n",
      " #   Column        Non-Null Count  Dtype \n",
      "---  ------        --------------  ----- \n",
      " 0   type          12981 non-null  object\n",
      " 1   title         12981 non-null  object\n",
      " 2   country       12981 non-null  object\n",
      " 3   release_year  12981 non-null  int64 \n",
      " 4   listed_in     12981 non-null  object\n",
      " 5   category      12981 non-null  object\n",
      "dtypes: int64(1), object(5)\n",
      "memory usage: 709.9+ KB\n"
     ]
    },
    {
     "data": {
      "text/html": [
       "<div>\n",
       "<style scoped>\n",
       "    .dataframe tbody tr th:only-of-type {\n",
       "        vertical-align: middle;\n",
       "    }\n",
       "\n",
       "    .dataframe tbody tr th {\n",
       "        vertical-align: top;\n",
       "    }\n",
       "\n",
       "    .dataframe thead th {\n",
       "        text-align: right;\n",
       "    }\n",
       "</style>\n",
       "<table border=\"1\" class=\"dataframe\">\n",
       "  <thead>\n",
       "    <tr style=\"text-align: right;\">\n",
       "      <th></th>\n",
       "      <th>type</th>\n",
       "      <th>title</th>\n",
       "      <th>country</th>\n",
       "      <th>release_year</th>\n",
       "      <th>listed_in</th>\n",
       "      <th>category</th>\n",
       "    </tr>\n",
       "  </thead>\n",
       "  <tbody>\n",
       "    <tr>\n",
       "      <th>0</th>\n",
       "      <td>Movie</td>\n",
       "      <td>Norm of the North: King Sized Adventure</td>\n",
       "      <td>United States, India, South Korea, China</td>\n",
       "      <td>2019</td>\n",
       "      <td>Children &amp; Family Movies, Comedies</td>\n",
       "      <td>Children &amp; Family Movies</td>\n",
       "    </tr>\n",
       "    <tr>\n",
       "      <th>1</th>\n",
       "      <td>Movie</td>\n",
       "      <td>Norm of the North: King Sized Adventure</td>\n",
       "      <td>United States, India, South Korea, China</td>\n",
       "      <td>2019</td>\n",
       "      <td>Children &amp; Family Movies, Comedies</td>\n",
       "      <td>Comedies</td>\n",
       "    </tr>\n",
       "    <tr>\n",
       "      <th>2</th>\n",
       "      <td>Movie</td>\n",
       "      <td>Jandino: Whatever it Takes</td>\n",
       "      <td>United Kingdom</td>\n",
       "      <td>2016</td>\n",
       "      <td>Stand-Up Comedy</td>\n",
       "      <td>Stand-Up Comedy</td>\n",
       "    </tr>\n",
       "    <tr>\n",
       "      <th>3</th>\n",
       "      <td>TV Show</td>\n",
       "      <td>Transformers Prime</td>\n",
       "      <td>United States</td>\n",
       "      <td>2013</td>\n",
       "      <td>Kids' TV</td>\n",
       "      <td>Kids' TV</td>\n",
       "    </tr>\n",
       "    <tr>\n",
       "      <th>4</th>\n",
       "      <td>TV Show</td>\n",
       "      <td>Transformers: Robots in Disguise</td>\n",
       "      <td>United States</td>\n",
       "      <td>2016</td>\n",
       "      <td>Kids' TV</td>\n",
       "      <td>Kids' TV</td>\n",
       "    </tr>\n",
       "  </tbody>\n",
       "</table>\n",
       "</div>"
      ],
      "text/plain": [
       "      type                                    title  \\\n",
       "0    Movie  Norm of the North: King Sized Adventure   \n",
       "1    Movie  Norm of the North: King Sized Adventure   \n",
       "2    Movie               Jandino: Whatever it Takes   \n",
       "3  TV Show                       Transformers Prime   \n",
       "4  TV Show         Transformers: Robots in Disguise   \n",
       "\n",
       "                                    country  release_year  \\\n",
       "0  United States, India, South Korea, China          2019   \n",
       "1  United States, India, South Korea, China          2019   \n",
       "2                            United Kingdom          2016   \n",
       "3                             United States          2013   \n",
       "4                             United States          2016   \n",
       "\n",
       "                            listed_in                  category  \n",
       "0  Children & Family Movies, Comedies  Children & Family Movies  \n",
       "1  Children & Family Movies, Comedies                  Comedies  \n",
       "2                     Stand-Up Comedy           Stand-Up Comedy  \n",
       "3                            Kids' TV                  Kids' TV  \n",
       "4                            Kids' TV                  Kids' TV  "
      ]
     },
     "execution_count": 4,
     "metadata": {},
     "output_type": "execute_result"
    }
   ],
   "source": [
    "netflix.info()\n",
    "netflix.head()"
   ]
  },
  {
   "cell_type": "code",
   "execution_count": 30,
   "metadata": {},
   "outputs": [
    {
     "data": {
      "text/plain": [
       "Movie      8946\n",
       "TV Show    4035\n",
       "Name: type, dtype: int64"
      ]
     },
     "execution_count": 30,
     "metadata": {},
     "output_type": "execute_result"
    }
   ],
   "source": [
    "type_count = netflix['type'].value_counts()\n",
    "type_count"
   ]
  },
  {
   "cell_type": "code",
   "execution_count": 29,
   "metadata": {},
   "outputs": [
    {
     "data": {
      "image/png": "[encoded data removed]",
      "text/plain": [
       "<Figure size 432x288 with 1 Axes>"
      ]
     },
     "metadata": {},
     "output_type": "display_data"
    }
   ],
   "source": [
    "type_count.plot.pie(label=\"Type\", title=\"Netflix Content\")\n",
    "plt.show()"
   ]
  },
  {
   "cell_type": "code",
   "execution_count": 47,
   "metadata": {},
   "outputs": [
    {
     "data": {
      "image/png": "[encoded data removed]",
      "text/plain": [
       "<Figure size 720x432 with 1 Axes>"
      ]
     },
     "metadata": {
      "needs_background": "light"
     },
     "output_type": "display_data"
    }
   ],
   "source": [
    "genres_count = netflix['category'].value_counts()\n",
    "genres_count = genres_count[:6,]\n",
    "plt.figure(figsize=(10,6))\n",
    "sns.barplot(genres_count.index, genres_count.values, alpha=0.8)\n",
    "plt.title('Top 6 Most Popular Genres - Netflix', fontsize=26)\n",
    "plt.ylabel('Total Movies', fontsize=16)\n",
    "plt.xlabel('Genre', fontsize=16) \n",
    "plt.show()"
   ]
  },
  {
   "cell_type": "code",
   "execution_count": 45,
   "metadata": {},
   "outputs": [
    {
     "data": {
      "image/png": "[encoded data removed]",
      "text/plain": [
       "<Figure size 576x432 with 1 Axes>"
      ]
     },
     "metadata": {
      "needs_background": "light"
     },
     "output_type": "display_data"
    }
   ],
   "source": [
    "country_count = netflix['country'].value_counts()\n",
    "country_count = country_count[:6,]\n",
    "plt.figure(figsize=(8,6))\n",
    "sns.barplot(country_count.index, country_count.values, alpha=0.8)\n",
    "plt.title('Top 6 Origin Countries - Netflix', fontsize=26)\n",
    "plt.ylabel('Total Movies', fontsize=16)\n",
    "plt.xlabel('Country', fontsize=16) \n",
    "plt.show()"
   ]
  },
  {
   "cell_type": "markdown",
   "metadata": {},
   "source": [
    "### Inferences:\n",
    " * Netflix content is distributed at abot 70% Movies - 30% TV Shows.\n",
    " * International Movies is one of the most popuar categories.\n",
    " * Looking at it by country, we see a clear dominance of the US in the movie industry followed by India."
   ]
  }
 ],
 "metadata": {
  "kernelspec": {
   "display_name": "Python 3",
   "language": "python",
   "name": "python3"
  },
  "language_info": {
   "codemirror_mode": {
    "name": "ipython",
    "version": 3
   },
   "file_extension": ".py",
   "mimetype": "text/x-python",
   "name": "python",
   "nbconvert_exporter": "python",
   "pygments_lexer": "ipython3",
   "version": "3.6.9"
  }
 },
 "nbformat": 4,
 "nbformat_minor": 4
}
