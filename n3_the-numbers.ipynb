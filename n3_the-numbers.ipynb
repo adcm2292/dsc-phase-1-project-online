{
 "cells": [
  {
   "cell_type": "markdown",
   "metadata": {},
   "source": [
    "## Question 2: What about the numbers?  \n",
    "\n",
    "    \n",
    "   * Top 10 most produced Genres\n",
    "   * Average Budget per Genre\n",
    "   * Caculate Profit by Genre\n",
    "   * Calculate Gross Profit Margin by Genre (how much money in return per every dollar invested)\n"
   ]
  },
  {
   "cell_type": "code",
   "execution_count": 40,
   "metadata": {},
   "outputs": [],
   "source": [
    "import numpy as np\n",
    "import pandas as pd\n",
    "import matplotlib.pyplot as plt\n",
    "import seaborn as sns\n",
    "%store -r genres_df\n",
    "%store -r numbers_df"
   ]
  },
  {
   "cell_type": "code",
   "execution_count": 41,
   "metadata": {},
   "outputs": [
    {
     "data": {
      "image/png": "[encoded data removed]",
      "text/plain": [
       "<Figure size 864x576 with 1 Axes>"
      ]
     },
     "metadata": {
      "needs_background": "light"
     },
     "output_type": "display_data"
    }
   ],
   "source": [
    "genres_count = genres_df['genres'].value_counts()\n",
    "genres_count = genres_count[:10,]\n",
    "plt.figure(figsize=(12,8))\n",
    "sns.barplot(genres_count.index, genres_count.values, alpha=0.8)\n",
    "plt.title('Top 10 Most Produced Movie Genres', fontsize=26)\n",
    "plt.ylabel('Total Movies Produced', fontsize=16)\n",
    "plt.xlabel('Genre', fontsize=16) \n",
    "plt.show()"
   ]
  },
  {
   "cell_type": "markdown",
   "metadata": {},
   "source": [
    "Up next, I will merge genres_df and numbers_df to obtain financial information per genre."
   ]
  },
  {
   "cell_type": "code",
   "execution_count": 42,
   "metadata": {},
   "outputs": [
    {
     "name": "stdout",
     "output_type": "stream",
     "text": [
      "<class 'pandas.core.frame.DataFrame'>\n",
      "Int64Index: 2480 entries, 0 to 2479\n",
      "Data columns (total 6 columns):\n",
      " #   Column             Non-Null Count  Dtype \n",
      "---  ------             --------------  ----- \n",
      " 0   movie              2480 non-null   object\n",
      " 1   genres             541 non-null    object\n",
      " 2   production_budget  2480 non-null   int64 \n",
      " 3   domestic_gross     2480 non-null   int64 \n",
      " 4   worldwide_gross    2480 non-null   int64 \n",
      " 5   year               2480 non-null   int64 \n",
      "dtypes: int64(4), object(2)\n",
      "memory usage: 135.6+ KB\n"
     ]
    },
    {
     "data": {
      "text/html": [
       "<div>\n",
       "<style scoped>\n",
       "    .dataframe tbody tr th:only-of-type {\n",
       "        vertical-align: middle;\n",
       "    }\n",
       "\n",
       "    .dataframe tbody tr th {\n",
       "        vertical-align: top;\n",
       "    }\n",
       "\n",
       "    .dataframe thead th {\n",
       "        text-align: right;\n",
       "    }\n",
       "</style>\n",
       "<table border=\"1\" class=\"dataframe\">\n",
       "  <thead>\n",
       "    <tr style=\"text-align: right;\">\n",
       "      <th></th>\n",
       "      <th>movie</th>\n",
       "      <th>genres</th>\n",
       "      <th>production_budget</th>\n",
       "      <th>domestic_gross</th>\n",
       "      <th>worldwide_gross</th>\n",
       "      <th>year</th>\n",
       "    </tr>\n",
       "  </thead>\n",
       "  <tbody>\n",
       "    <tr>\n",
       "      <th>0</th>\n",
       "      <td>Pirates of the Caribbean: On Stranger Tides</td>\n",
       "      <td>NaN</td>\n",
       "      <td>410600000</td>\n",
       "      <td>241063875</td>\n",
       "      <td>1045663875</td>\n",
       "      <td>2011</td>\n",
       "    </tr>\n",
       "    <tr>\n",
       "      <th>1</th>\n",
       "      <td>Dark Phoenix</td>\n",
       "      <td>NaN</td>\n",
       "      <td>350000000</td>\n",
       "      <td>42762350</td>\n",
       "      <td>149762350</td>\n",
       "      <td>2019</td>\n",
       "    </tr>\n",
       "    <tr>\n",
       "      <th>2</th>\n",
       "      <td>Avengers: Age of Ultron</td>\n",
       "      <td>NaN</td>\n",
       "      <td>330600000</td>\n",
       "      <td>459005868</td>\n",
       "      <td>1403013963</td>\n",
       "      <td>2015</td>\n",
       "    </tr>\n",
       "    <tr>\n",
       "      <th>3</th>\n",
       "      <td>Star Wars Ep. VIII: The Last Jedi</td>\n",
       "      <td>NaN</td>\n",
       "      <td>317000000</td>\n",
       "      <td>620181382</td>\n",
       "      <td>1316721747</td>\n",
       "      <td>2017</td>\n",
       "    </tr>\n",
       "    <tr>\n",
       "      <th>4</th>\n",
       "      <td>Star Wars Ep. VII: The Force Awakens</td>\n",
       "      <td>NaN</td>\n",
       "      <td>306000000</td>\n",
       "      <td>936662225</td>\n",
       "      <td>2053311220</td>\n",
       "      <td>2015</td>\n",
       "    </tr>\n",
       "  </tbody>\n",
       "</table>\n",
       "</div>"
      ],
      "text/plain": [
       "                                         movie genres  production_budget  \\\n",
       "0  Pirates of the Caribbean: On Stranger Tides    NaN          410600000   \n",
       "1                                 Dark Phoenix    NaN          350000000   \n",
       "2                      Avengers: Age of Ultron    NaN          330600000   \n",
       "3            Star Wars Ep. VIII: The Last Jedi    NaN          317000000   \n",
       "4         Star Wars Ep. VII: The Force Awakens    NaN          306000000   \n",
       "\n",
       "   domestic_gross  worldwide_gross  year  \n",
       "0       241063875       1045663875  2011  \n",
       "1        42762350        149762350  2019  \n",
       "2       459005868       1403013963  2015  \n",
       "3       620181382       1316721747  2017  \n",
       "4       936662225       2053311220  2015  "
      ]
     },
     "execution_count": 42,
     "metadata": {},
     "output_type": "execute_result"
    }
   ],
   "source": [
    "numbers_by_genre = pd.merge(genres_df, numbers_df, on='movie', how='right')\n",
    "numbers_by_genre.info()\n",
    "numbers_by_genre.head()"
   ]
  },
  {
   "cell_type": "code",
   "execution_count": 43,
   "metadata": {},
   "outputs": [],
   "source": [
    "numbers_by_genre['gross_profit'] = numbers_by_genre['worldwide_gross'] - numbers_by_genre['production_budget']"
   ]
  },
  {
   "cell_type": "code",
   "execution_count": 44,
   "metadata": {},
   "outputs": [],
   "source": [
    "numbers_by_genre['gross_margin'] = (\n",
    "    numbers_by_genre['worldwide_gross'] - numbers_by_genre[\n",
    "        'production_budget'])/ numbers_by_genre['worldwide_gross']"
   ]
  },
  {
   "cell_type": "code",
   "execution_count": 45,
   "metadata": {},
   "outputs": [
    {
     "data": {
      "text/html": [
       "<div>\n",
       "<style scoped>\n",
       "    .dataframe tbody tr th:only-of-type {\n",
       "        vertical-align: middle;\n",
       "    }\n",
       "\n",
       "    .dataframe tbody tr th {\n",
       "        vertical-align: top;\n",
       "    }\n",
       "\n",
       "    .dataframe thead th {\n",
       "        text-align: right;\n",
       "    }\n",
       "</style>\n",
       "<table border=\"1\" class=\"dataframe\">\n",
       "  <thead>\n",
       "    <tr style=\"text-align: right;\">\n",
       "      <th></th>\n",
       "      <th>movie</th>\n",
       "      <th>genres</th>\n",
       "      <th>production_budget</th>\n",
       "      <th>domestic_gross</th>\n",
       "      <th>worldwide_gross</th>\n",
       "      <th>year</th>\n",
       "      <th>gross_profit</th>\n",
       "      <th>gross_margin</th>\n",
       "    </tr>\n",
       "  </thead>\n",
       "  <tbody>\n",
       "    <tr>\n",
       "      <th>0</th>\n",
       "      <td>Pirates of the Caribbean: On Stranger Tides</td>\n",
       "      <td>NaN</td>\n",
       "      <td>410600000</td>\n",
       "      <td>241063875</td>\n",
       "      <td>1045663875</td>\n",
       "      <td>2011</td>\n",
       "      <td>635063875</td>\n",
       "      <td>0.607331</td>\n",
       "    </tr>\n",
       "    <tr>\n",
       "      <th>1</th>\n",
       "      <td>Dark Phoenix</td>\n",
       "      <td>NaN</td>\n",
       "      <td>350000000</td>\n",
       "      <td>42762350</td>\n",
       "      <td>149762350</td>\n",
       "      <td>2019</td>\n",
       "      <td>-200237650</td>\n",
       "      <td>-1.337036</td>\n",
       "    </tr>\n",
       "    <tr>\n",
       "      <th>2</th>\n",
       "      <td>Avengers: Age of Ultron</td>\n",
       "      <td>NaN</td>\n",
       "      <td>330600000</td>\n",
       "      <td>459005868</td>\n",
       "      <td>1403013963</td>\n",
       "      <td>2015</td>\n",
       "      <td>1072413963</td>\n",
       "      <td>0.764364</td>\n",
       "    </tr>\n",
       "    <tr>\n",
       "      <th>3</th>\n",
       "      <td>Star Wars Ep. VIII: The Last Jedi</td>\n",
       "      <td>NaN</td>\n",
       "      <td>317000000</td>\n",
       "      <td>620181382</td>\n",
       "      <td>1316721747</td>\n",
       "      <td>2017</td>\n",
       "      <td>999721747</td>\n",
       "      <td>0.759251</td>\n",
       "    </tr>\n",
       "    <tr>\n",
       "      <th>4</th>\n",
       "      <td>Star Wars Ep. VII: The Force Awakens</td>\n",
       "      <td>NaN</td>\n",
       "      <td>306000000</td>\n",
       "      <td>936662225</td>\n",
       "      <td>2053311220</td>\n",
       "      <td>2015</td>\n",
       "      <td>1747311220</td>\n",
       "      <td>0.850972</td>\n",
       "    </tr>\n",
       "  </tbody>\n",
       "</table>\n",
       "</div>"
      ],
      "text/plain": [
       "                                         movie genres  production_budget  \\\n",
       "0  Pirates of the Caribbean: On Stranger Tides    NaN          410600000   \n",
       "1                                 Dark Phoenix    NaN          350000000   \n",
       "2                      Avengers: Age of Ultron    NaN          330600000   \n",
       "3            Star Wars Ep. VIII: The Last Jedi    NaN          317000000   \n",
       "4         Star Wars Ep. VII: The Force Awakens    NaN          306000000   \n",
       "\n",
       "   domestic_gross  worldwide_gross  year  gross_profit  gross_margin  \n",
       "0       241063875       1045663875  2011     635063875      0.607331  \n",
       "1        42762350        149762350  2019    -200237650     -1.337036  \n",
       "2       459005868       1403013963  2015    1072413963      0.764364  \n",
       "3       620181382       1316721747  2017     999721747      0.759251  \n",
       "4       936662225       2053311220  2015    1747311220      0.850972  "
      ]
     },
     "execution_count": 45,
     "metadata": {},
     "output_type": "execute_result"
    }
   ],
   "source": [
    "numbers_by_genre.head()"
   ]
  },
  {
   "cell_type": "code",
   "execution_count": 46,
   "metadata": {},
   "outputs": [],
   "source": [
    "genre_grp = numbers_by_genre.groupby(numbers_by_genre.genres)"
   ]
  },
  {
   "cell_type": "code",
   "execution_count": 47,
   "metadata": {},
   "outputs": [],
   "source": [
    "mean_budget = genre_grp['production_budget'].mean()\n",
    "mean_budget.sort_values(ascending=False, inplace=True)"
   ]
  },
  {
   "cell_type": "code",
   "execution_count": 48,
   "metadata": {},
   "outputs": [
    {
     "data": {
      "image/png": "[encoded data removed]",
      "text/plain": [
       "<Figure size 864x576 with 1 Axes>"
      ]
     },
     "metadata": {
      "needs_background": "light"
     },
     "output_type": "display_data"
    }
   ],
   "source": [
    "# Budget per genre  x = genre, y = avg(budget)\n",
    "mean_budget = mean_budget[:10,]\n",
    "plt.figure(figsize=(12,8))\n",
    "sns.barplot(mean_budget.index, mean_budget.values, alpha=0.9)\n",
    "plt.title('Top 10 Genres with the Highest Budget', fontsize=24)\n",
    "plt.ylabel('Mean Movie Budget per Genre (expressed in 10M)', fontsize=16)\n",
    "plt.xlabel('Genres', fontsize=16) \n",
    "plt.show()"
   ]
  },
  {
   "cell_type": "code",
   "execution_count": 35,
   "metadata": {},
   "outputs": [],
   "source": [
    "mean_profit = genre_grp['gross_profit'].mean()\n",
    "mean_profit.sort_values(ascending=False, inplace=True)"
   ]
  },
  {
   "cell_type": "code",
   "execution_count": 37,
   "metadata": {},
   "outputs": [
    {
     "data": {
      "image/png": "[encoded data removed]",
      "text/plain": [
       "<Figure size 864x576 with 1 Axes>"
      ]
     },
     "metadata": {
      "needs_background": "light"
     },
     "output_type": "display_data"
    }
   ],
   "source": [
    "mean_profit = mean_profit[:10,]\n",
    "plt.figure(figsize=(12,8))\n",
    "sns.barplot(mean_profit.index, mean_profit.values, alpha=0.9)\n",
    "plt.title('Top 10 Genres - Highest Average Gross Profit', fontsize=24)\n",
    "plt.ylabel('Mean Gross Profit (expressed in 100M)', fontsize=16)\n",
    "plt.xlabel('Genres', fontsize=16) \n",
    "plt.show()"
   ]
  },
  {
   "cell_type": "code",
   "execution_count": 33,
   "metadata": {},
   "outputs": [],
   "source": [
    "mean_margin = genre_grp['gross_margin'].mean()\n",
    "mean_margin.sort_values(ascending=False, inplace=True)"
   ]
  },
  {
   "cell_type": "code",
   "execution_count": 39,
   "metadata": {},
   "outputs": [
    {
     "data": {
      "text/plain": [
       "genres\n",
       "Musical        0.779546\n",
       "History        0.593623\n",
       "News          -5.199141\n",
       "Fantasy            -inf\n",
       "Adventure          -inf\n",
       "Animation          -inf\n",
       "Biography          -inf\n",
       "Comedy             -inf\n",
       "Crime              -inf\n",
       "Documentary        -inf\n",
       "Name: gross_margin, dtype: float64"
      ]
     },
     "execution_count": 39,
     "metadata": {},
     "output_type": "execute_result"
    }
   ],
   "source": [
    "mean_margin = mean_margin[:10,]\n",
    "mean_margin.head(10)"
   ]
  },
  {
   "cell_type": "code",
   "execution_count": 22,
   "metadata": {},
   "outputs": [],
   "source": [
    "\n",
    "# grouped by genre  (gross revenue – budget)=gross_profit / \n",
    "# gross profit margin (gross revenue – budget)/gross revenue \n",
    "# (graph1=use bar over bar)  x = genre, y = worldwide_gross revenue, budget, and gross profit margin\n",
    "# Could show the average gross profit per genre  (x = genre, y = average gross profit $) \n",
    "# and/or  show the gross profit margin grouped by genre (x = year, y = gross profit margin) \n",
    "# and/or  show the gross profit margin grouped by year (x = year, y = gross profit margin) \n",
    "     "
   ]
  },
  {
   "cell_type": "code",
   "execution_count": null,
   "metadata": {},
   "outputs": [],
   "source": [
    "# GROSS PROFIT MARGIN (how much am I getting in return per every dollar invested)"
   ]
  }
 ],
 "metadata": {
  "kernelspec": {
   "display_name": "Python 3",
   "language": "python",
   "name": "python3"
  },
  "language_info": {
   "codemirror_mode": {
    "name": "ipython",
    "version": 3
   },
   "file_extension": ".py",
   "mimetype": "text/x-python",
   "name": "python",
   "nbconvert_exporter": "python",
   "pygments_lexer": "ipython3",
   "version": "3.6.9"
  }
 },
 "nbformat": 4,
 "nbformat_minor": 4
}
